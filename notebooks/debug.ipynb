{
 "cells": [
  {
   "cell_type": "code",
   "execution_count": null,
   "id": "110692db",
   "metadata": {},
   "outputs": [],
   "source": [
    "import torch\n",
    "from models_cmae import *\n",
    "import matplotlib\n",
    "from matplotlib import pyplot as plt\n",
    "import torch.nn.functional as F\n",
    "\n",
    "# DEVICE = torch.device('cuda' if torch.cuda.is_available() else 'cpu')\n",
    "DEVICE = torch.device('cpu')\n",
    "\n",
    "GROUP_DUPLICATES = False"
   ]
  },
  {
   "cell_type": "markdown",
   "id": "5afedfc6",
   "metadata": {},
   "source": [
    "## Input and model"
   ]
  },
  {
   "cell_type": "code",
   "execution_count": null,
   "id": "c5048d43",
   "metadata": {
    "scrolled": true
   },
   "outputs": [],
   "source": [
    "# input = torch.randn((3, 3, 224, 224), device=DEVICE)\n",
    "# input = torch.randint(10, (3, 3, 6, 6), device=DEVICE)\n",
    "input = (300 * torch.arange(3, device=DEVICE)[:, None, None, None] + \n",
    "         100 * torch.arange(3, device=DEVICE)[None, :, None, None] +\n",
    "         10 * torch.arange(6, device=DEVICE)[None, None, :, None] +\n",
    "         1 * torch.arange(6, device=DEVICE)[None, None, None, :])\n",
    "mae = MaskedAutoencoderViT(img_size=6, patch_size=2, debug_mode=True, \n",
    "                           embed_dim=12, decoder_embed_dim=12).to(DEVICE)\n",
    "\n",
    "# mae = MaskedAutoencoderViT(img_size=224, patch_size=16, debug_mode=False, \n",
    "#                            embed_dim=1024, decoder_embed_dim=1024).to(DEVICE)\n",
    "\n",
    "\n",
    "if GROUP_DUPLICATES:\n",
    "    input = torch.stack([input, input], 1).view(3*2, 3, 6, 6)\n",
    "\n",
    "print(input)"
   ]
  },
  {
   "cell_type": "code",
   "execution_count": null,
   "id": "d0bf8267",
   "metadata": {},
   "outputs": [],
   "source": [
    "mae.slim_predictor = True\n",
    "\n",
    "(patches_embeddings, patches_embeddings_divided, mask, representations_divided,\n",
    "                    representations_divided_expanded, representations_united, pred, loss, loss_batchwise, \n",
    "                    loss_patchwise, loss_cls, *other_stats,\n",
    "                    batchwise_similarity_matrix, patchwise_similarity_matrix, batchwise_cls_similarity_matrix,\n",
    "                    batchwise_logits, patchwise_logits, batchwise_cls_logits,\n",
    "                    batchwise_labels, patchwise_labels, batchwise_cls_labels) = mae.forward(input, 2, 2, \n",
    "                                                                                            group_duplicates=GROUP_DUPLICATES)"
   ]
  },
  {
   "cell_type": "code",
   "execution_count": null,
   "id": "d0f909c6",
   "metadata": {},
   "outputs": [],
   "source": [
    "print(patches_embeddings)"
   ]
  },
  {
   "cell_type": "code",
   "execution_count": null,
   "id": "edff269d",
   "metadata": {},
   "outputs": [],
   "source": [
    "print(patches_embeddings_divided)"
   ]
  },
  {
   "cell_type": "code",
   "execution_count": null,
   "id": "6e8c4a2d",
   "metadata": {},
   "outputs": [],
   "source": [
    "print(mask.long())"
   ]
  },
  {
   "cell_type": "code",
   "execution_count": null,
   "id": "3d03af22",
   "metadata": {},
   "outputs": [],
   "source": [
    "print(representations_divided.long())"
   ]
  },
  {
   "cell_type": "code",
   "execution_count": null,
   "id": "335326e9",
   "metadata": {},
   "outputs": [],
   "source": [
    "print(representations_divided_expanded.long())"
   ]
  },
  {
   "cell_type": "code",
   "execution_count": null,
   "id": "a89df43c",
   "metadata": {},
   "outputs": [],
   "source": [
    "print(representations_united.long())"
   ]
  },
  {
   "cell_type": "code",
   "execution_count": null,
   "id": "131aeff2",
   "metadata": {},
   "outputs": [],
   "source": [
    "print(pred.long())"
   ]
  },
  {
   "cell_type": "code",
   "execution_count": null,
   "id": "cda9e025",
   "metadata": {},
   "outputs": [],
   "source": [
    " batchwise_similarity_matrix, \n",
    "    "
   ]
  },
  {
   "cell_type": "code",
   "execution_count": null,
   "id": "dbc432df",
   "metadata": {},
   "outputs": [],
   "source": [
    "    patchwise_similarity_matrix, \n",
    "    "
   ]
  },
  {
   "cell_type": "code",
   "execution_count": null,
   "id": "ad0c35d6",
   "metadata": {},
   "outputs": [],
   "source": [
    "    batchwise_cls_similarity_matrix,"
   ]
  },
  {
   "cell_type": "code",
   "execution_count": null,
   "id": "d2f2a221",
   "metadata": {},
   "outputs": [],
   "source": [
    "                   \n",
    "        \n",
    "        batchwise_logits,"
   ]
  },
  {
   "cell_type": "code",
   "execution_count": null,
   "id": "d8decc46",
   "metadata": {},
   "outputs": [],
   "source": [
    "        \n",
    "        patchwise_logits,"
   ]
  },
  {
   "cell_type": "code",
   "execution_count": null,
   "id": "b643e755",
   "metadata": {},
   "outputs": [],
   "source": [
    "        \n",
    "        batchwise_cls_logits"
   ]
  },
  {
   "cell_type": "code",
   "execution_count": null,
   "id": "4cea94b2",
   "metadata": {},
   "outputs": [],
   "source": [
    "batchwise_labels, "
   ]
  },
  {
   "cell_type": "code",
   "execution_count": null,
   "id": "ec8e9fa8",
   "metadata": {},
   "outputs": [],
   "source": [
    "patchwise_labels,"
   ]
  },
  {
   "cell_type": "code",
   "execution_count": null,
   "id": "88d8b803",
   "metadata": {},
   "outputs": [],
   "source": [
    " batchwise_cls_labels"
   ]
  },
  {
   "cell_type": "code",
   "execution_count": null,
   "id": "06c0638a",
   "metadata": {},
   "outputs": [],
   "source": [
    "loss_batchwise, loss_patchwise, loss_cls, loss"
   ]
  },
  {
   "cell_type": "code",
   "execution_count": null,
   "id": "eb1d4537",
   "metadata": {},
   "outputs": [],
   "source": [
    "loss.backward()"
   ]
  },
  {
   "cell_type": "code",
   "execution_count": null,
   "id": "18c4ef82",
   "metadata": {},
   "outputs": [],
   "source": [
    "mae"
   ]
  },
  {
   "cell_type": "code",
   "execution_count": null,
   "id": "7b85a036",
   "metadata": {},
   "outputs": [],
   "source": [
    "mae.cls_predict_tokens_mlp[0].weight.grad"
   ]
  },
  {
   "cell_type": "code",
   "execution_count": null,
   "id": "468645e6",
   "metadata": {},
   "outputs": [],
   "source": [
    "loss.grad"
   ]
  },
  {
   "cell_type": "code",
   "execution_count": null,
   "id": "0fa0d327",
   "metadata": {},
   "outputs": [],
   "source": [
    "patchwise_logits.grad"
   ]
  },
  {
   "cell_type": "code",
   "execution_count": null,
   "id": "3d50e93c",
   "metadata": {},
   "outputs": [],
   "source": [
    "loss_batchwise.grad"
   ]
  },
  {
   "cell_type": "code",
   "execution_count": null,
   "id": "ba2875ad",
   "metadata": {},
   "outputs": [],
   "source": [
    "loss.grad"
   ]
  },
  {
   "cell_type": "code",
   "execution_count": null,
   "id": "3a5d7604",
   "metadata": {},
   "outputs": [],
   "source": [
    "loss.is_leaf"
   ]
  },
  {
   "cell_type": "code",
   "execution_count": null,
   "id": "f207ee9d",
   "metadata": {},
   "outputs": [],
   "source": [
    "loss_batchwise.is_leaf"
   ]
  },
  {
   "cell_type": "code",
   "execution_count": null,
   "id": "ead98908",
   "metadata": {},
   "outputs": [],
   "source": [
    "inp = -torch.inf * torch.ones(5)[None, :]\n",
    "inp[0, 0] = 1.\n",
    "F.cross_entropy(inp, torch.ones(1).long())"
   ]
  },
  {
   "cell_type": "code",
   "execution_count": null,
   "id": "4cde0085",
   "metadata": {},
   "outputs": [],
   "source": [
    "inp"
   ]
  },
  {
   "cell_type": "code",
   "execution_count": null,
   "id": "2b2dde11",
   "metadata": {},
   "outputs": [],
   "source": [
    "torch.zeros(1).log()"
   ]
  },
  {
   "cell_type": "code",
   "execution_count": null,
   "id": "a10d1c80",
   "metadata": {},
   "outputs": [],
   "source": [
    "x = torch.randint(10, (4,7,2))\n",
    "y = torch.randint(10, (4,4,2))"
   ]
  },
  {
   "cell_type": "code",
   "execution_count": null,
   "id": "c92b0de2",
   "metadata": {},
   "outputs": [],
   "source": [
    "x"
   ]
  },
  {
   "cell_type": "code",
   "execution_count": null,
   "id": "24c8965a",
   "metadata": {},
   "outputs": [],
   "source": [
    "B = 4\n",
    "G = 2\n",
    "L = 7\n",
    "E = 2\n",
    "S = 2\n",
    "perm = torch.randperm(L, device=x.device)[None, :]\n",
    "lower_bds = S * torch.arange(G, device=x.device)[:, None]\n",
    "mask = (perm >= lower_bds) * (perm < lower_bds + S)[None, ...].expand(B, G, L) \n",
    "\n",
    "y = x.view(B, 1, L, E).expand(B, G, L, E)[mask].view(B, G, S, E)"
   ]
  },
  {
   "cell_type": "code",
   "execution_count": null,
   "id": "6761bcdc",
   "metadata": {},
   "outputs": [],
   "source": [
    "y"
   ]
  },
  {
   "cell_type": "code",
   "execution_count": null,
   "id": "203dc9f9",
   "metadata": {},
   "outputs": [],
   "source": [
    "mask"
   ]
  },
  {
   "cell_type": "code",
   "execution_count": null,
   "id": "2e4a54c8",
   "metadata": {},
   "outputs": [],
   "source": [
    "predictor_input = torch.zeros(B, G, L, E, dtype=torch.long)\n",
    "predictor_input[mask] = y.view(-1, E)"
   ]
  },
  {
   "cell_type": "code",
   "execution_count": null,
   "id": "edc86e87",
   "metadata": {},
   "outputs": [],
   "source": [
    "predictor_input"
   ]
  },
  {
   "cell_type": "code",
   "execution_count": null,
   "id": "1a417e60",
   "metadata": {},
   "outputs": [],
   "source": [
    "a = torch.randint(10, [4,4,4])"
   ]
  },
  {
   "cell_type": "code",
   "execution_count": null,
   "id": "fdee6a28",
   "metadata": {},
   "outputs": [],
   "source": [
    "a"
   ]
  },
  {
   "cell_type": "code",
   "execution_count": null,
   "id": "a9409360",
   "metadata": {},
   "outputs": [],
   "source": [
    "a[:, torch.tensor([1,0,0,1]).bool(), :]"
   ]
  },
  {
   "cell_type": "code",
   "execution_count": null,
   "id": "a3dd92ea",
   "metadata": {},
   "outputs": [],
   "source": [
    "cc = torch.tensor([1,1,0,1]).bool()"
   ]
  },
  {
   "cell_type": "code",
   "execution_count": null,
   "id": "4cd0748f",
   "metadata": {},
   "outputs": [],
   "source": [
    "cc"
   ]
  },
  {
   "cell_type": "code",
   "execution_count": null,
   "id": "6bf93b6e",
   "metadata": {},
   "outputs": [],
   "source": [
    "cc.sum()"
   ]
  },
  {
   "cell_type": "code",
   "execution_count": null,
   "id": "12dc870a",
   "metadata": {},
   "outputs": [],
   "source": [
    "x = input[0][0]"
   ]
  },
  {
   "cell_type": "code",
   "execution_count": null,
   "id": "0a33c3b5",
   "metadata": {},
   "outputs": [],
   "source": [
    "x"
   ]
  },
  {
   "cell_type": "code",
   "execution_count": null,
   "id": "e3165f25",
   "metadata": {},
   "outputs": [],
   "source": [
    "y = torch.stack([x, x, x], 1)"
   ]
  },
  {
   "cell_type": "code",
   "execution_count": null,
   "id": "2714827d",
   "metadata": {},
   "outputs": [],
   "source": [
    "y"
   ]
  },
  {
   "cell_type": "code",
   "execution_count": null,
   "id": "766517e1",
   "metadata": {},
   "outputs": [],
   "source": [
    "z = y.view(6,...)"
   ]
  },
  {
   "cell_type": "code",
   "execution_count": null,
   "id": "cdebb65f",
   "metadata": {},
   "outputs": [],
   "source": [
    "z"
   ]
  },
  {
   "cell_type": "code",
   "execution_count": null,
   "id": "553ca2eb",
   "metadata": {},
   "outputs": [],
   "source": []
  },
  {
   "cell_type": "code",
   "execution_count": null,
   "id": "8ce2c08c",
   "metadata": {},
   "outputs": [],
   "source": []
  },
  {
   "cell_type": "code",
   "execution_count": null,
   "id": "c2dec2a8",
   "metadata": {},
   "outputs": [],
   "source": []
  },
  {
   "cell_type": "code",
   "execution_count": null,
   "id": "0604cfdd",
   "metadata": {},
   "outputs": [],
   "source": []
  }
 ],
 "metadata": {
  "kernelspec": {
   "display_name": "Python 3 (ipykernel)",
   "language": "python",
   "name": "python3"
  },
  "language_info": {
   "codemirror_mode": {
    "name": "ipython",
    "version": 3
   },
   "file_extension": ".py",
   "mimetype": "text/x-python",
   "name": "python",
   "nbconvert_exporter": "python",
   "pygments_lexer": "ipython3",
   "version": "3.8.5"
  }
 },
 "nbformat": 4,
 "nbformat_minor": 5
}
